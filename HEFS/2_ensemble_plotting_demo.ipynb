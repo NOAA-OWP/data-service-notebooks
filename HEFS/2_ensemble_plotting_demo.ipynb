{
  "cells": [
    {
      "cell_type": "markdown",
      "source": [
        "  ### Retrieving Data from the API\n",
        "\n",
        "We need a way to retrieve the data from the API. To achieve this, we first import Python's requests library, which allows us to make HTTP requests. Additionally, we import the pprint function from the pprint library to make the output more readable. Finally, we define the API endpoint we'll be interacting with, setting API_ENDPOINT to https://testing-api.water.noaa.gov/hefs/. Here's how we do it:"
      ],
      "metadata": {
        "id": "Y7KPb6LtihNs"
      }
    },
    {
      "cell_type": "code",
      "execution_count": null,
      "metadata": {
        "tags": [],
        "id": "yhYCb2CsSVxg"
      },
      "outputs": [],
      "source": [
        "# start by importing the requests library\n",
        "import requests\n",
        "# import the pprint library to make the output more readable\n",
        "from pprint import pprint\n",
        "# define the api-endpoint\n",
        "API_ENDPOINT = \"https://testing-api.water.noaa.gov/hefs\""
      ]
    },
    {
      "cell_type": "markdown",
      "metadata": {
        "id": "lWlt2sycS05l"
      },
      "source": [
        "### Most Recent Ensemble Forecast for a Location and Plotting\n",
        "\n",
        "In other cases, you might want to retrieve and plot recent ensemble data. The API allows ordering by a certain value of a parameter. This is achieved by adding `ordering=` to a parameter name.\n",
        "\n",
        "For example, to retrieve the latest QINE ensemble forecast for location id PGRC2, you'll specify `location_id=PGRC2`, `parameter_id=QINE`, `ordering=-start_date_date`, and `limit=1`.  Note that the negative sign in front of start_date_date tells the API to sort the results by start_date_date descending\n",
        "\n",
        "`/v1/headers/?location_id=PGRC2&parameter_id=QINE&ordering=-start_date_date&limit=1`\n"
      ]
    },
    {
      "cell_type": "code",
      "source": [
        "from datetime import datetime, timedelta\n",
        "# create a series request with location_id, parameter_id, and ordering filters\n",
        "uri = API_ENDPOINT + f\"/v1/headers/?location_id=PGRC2&parameter_id=QINE&limit=1&ordering=-start_date_date\"\n",
        "# get the response\n",
        "response = requests.request(\"GET\", uri)\n",
        "# get most recent start date\n",
        "startDate = response.json()['results'][0]['start_date_date']\n",
        "# print the response\n",
        "pprint(response.json())"
      ],
      "metadata": {
        "id": "d7mnUmBtEguU"
      },
      "execution_count": null,
      "outputs": []
    },
    {
      "cell_type": "markdown",
      "source": [
        "Now, with the most recent forecast startDate, we will retrieve all of the headers of that date. Then, get the total number of forecasts to be used in the graph process later.\n",
        "\n",
        "For example, to retrieve the newest data series headers, you can format the URI like this:\n",
        "\n",
        "`/v1/headers/?location_id=PGRC2&parameter_id=QINE&forecast_date_date={startDate}`\n",
        "\n",
        "Where the startDate is the value of the variable found in the previous section"
      ],
      "metadata": {
        "id": "eHADDfB6pJCJ"
      }
    },
    {
      "cell_type": "code",
      "source": [
        "from datetime import datetime, timedelta\n",
        "# create a series request with location_id, parameter_id, and start_date_date filters\n",
        "uri = API_ENDPOINT + f\"/v1/headers/?location_id=PGRC2&parameter_id=QINE&forecast_date_date={startDate}\"\n",
        "# get the response\n",
        "response = requests.request(\"GET\", uri)\n",
        "\n",
        "count = response.json()[\"count\"]\n",
        "# print the response\n",
        "pprint(response.json())"
      ],
      "metadata": {
        "id": "xYAhy4Pkl4RF"
      },
      "execution_count": null,
      "outputs": []
    },
    {
      "cell_type": "markdown",
      "source": [
        "Next, with the most recent forecast startDate and total number of forecasts available, we will retrieve all of the ensemble data for that start date. This is the data that we will plot next.\n",
        "\n",
        "We will use the term `limit` to set the total series output to the count set above. To retrieve the newest data series ensembles, you can format the URI like this:\n",
        "\n",
        "`/v1/ensembles/?location_id=PGRC2&parameter_id=QINE&forecast_date_date={startDate}&limit={count}`\n",
        "\n",
        "Where the count is the total number of forecasts for a given ensemble"
      ],
      "metadata": {
        "id": "rhgeI53Gq4k7"
      }
    },
    {
      "cell_type": "code",
      "source": [
        "# create a series request with location_id, parameter_id, start_date_date, and limit filters\n",
        "uri = API_ENDPOINT + f\"/v1/ensembles/?location_id=PGRC2&parameter_id=QINE&start_date_date={startDate}&limit={count}\"\n",
        "# get the response\n",
        "response = requests.request(\"GET\", uri)\n",
        "# print the response\n",
        "pprint(response.json())"
      ],
      "metadata": {
        "id": "l9Z2jU100sM3"
      },
      "execution_count": null,
      "outputs": []
    },
    {
      "cell_type": "markdown",
      "source": [
        "Finally, we take the response data to plot the ensemble. To do this, we must parse through the response date and plot each of the forecast's time and corresponding values onto a single graph. The Python library matplotlib will enable is plotting process."
      ],
      "metadata": {
        "id": "GolV7Z0Etds7"
      }
    },
    {
      "cell_type": "code",
      "source": [
        "import matplotlib.pyplot as plt\n",
        "import datetime\n",
        "\n",
        "def graph_ensemble_data(response_data):\n",
        "  \"\"\"Graphs ensemble data from a API response.\n",
        "\n",
        "  Args:\n",
        "    response_data: A dictionary containing the API response data.\n",
        "  \"\"\"\n",
        "  # check if results is present the response data\n",
        "  if 'results' in response_data and response_data['results']:\n",
        "    # iterate through result in results\n",
        "    for result in response_data['results']:\n",
        "      # check if event is present in response data\n",
        "      if 'events' in result and result['events']:\n",
        "        # iterate through event forcasts in the ensemble api response\n",
        "        for event in result['events']:\n",
        "          # initialize times list\n",
        "          times = []\n",
        "          # initialize values list\n",
        "          values = []\n",
        "          # iterate through values in the sepecific forcast event\n",
        "          for value in result['events']:\n",
        "              # prepare datetime for reformatting\n",
        "              datetime_str = f\"{value['date']} {value['time']}\"\n",
        "              # format datetime to Year-Month-Day Hour:Minutes:Seconds\n",
        "              datetime_obj = datetime.datetime.strptime(datetime_str, \"%Y-%m-%d %H:%M:%S\")\n",
        "              # add values from the forecast to their respective lists\n",
        "              times.append(datetime_obj)\n",
        "              values.append(value['value'])\n",
        "          # plot the date for the event forecast\n",
        "          #print(\"now\")\n",
        "          plt.plot(times, values)\n",
        "    # set x graph label\n",
        "    plt.xlabel('Time')\n",
        "    # set y graph label\n",
        "    plt.ylabel('Value')\n",
        "    # set graph title\n",
        "    plt.title('Ensemble Data')\n",
        "    # rotate x text vertically for better visibility\n",
        "    plt.xticks(rotation='vertical')\n",
        "    # display the actaul plot\n",
        "    plt.show()\n",
        "\n",
        "# call graphing function\n",
        "graph_ensemble_data(response.json())\n"
      ],
      "metadata": {
        "id": "IPSP1PFqX-pi"
      },
      "execution_count": null,
      "outputs": []
    },
    {
      "cell_type": "markdown",
      "metadata": {
        "id": "kn31tBc-SVxj"
      },
      "source": [
        "## Summary\n",
        "\n",
        "In this notebook, we learned how to use the HEFS API to retrieve data from the HEFS data store. We also learned how to use the API to filter results based on specific fields like `location_id`, `parameter_id`, and many more. The API filters on all available fields by appending the field name and value to the URI as query parameters.\n",
        "\n",
        "These techniques can be used to retrieve, filter, and paginate data from all resources the HEFS data store.  With one exception, the GraphQL interface, we cover that next."
      ]
    }
  ],
  "metadata": {
    "kernelspec": {
      "display_name": "conda_python3",
      "language": "python",
      "name": "conda_python3"
    },
    "language_info": {
      "codemirror_mode": {
        "name": "ipython",
        "version": 3
      },
      "file_extension": ".py",
      "mimetype": "text/x-python",
      "name": "python",
      "nbconvert_exporter": "python",
      "pygments_lexer": "ipython3",
      "version": "3.10.13"
    },
    "vscode": {
      "interpreter": {
        "hash": "916dbcbb3f70747c44a77c7bcd40155683ae19c65e1c03b4aa3499c5328201f1"
      }
    },
    "colab": {
      "provenance": []
    }
  },
  "nbformat": 4,
  "nbformat_minor": 0
}
