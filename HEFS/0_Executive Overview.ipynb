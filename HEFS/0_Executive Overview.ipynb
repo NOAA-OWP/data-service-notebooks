{
 "cells": [
  {
   "cell_type": "markdown",
   "id": "3e565bd1-c646-4d0d-acd4-e2208bf68ee8",
   "metadata": {},
   "source": [
    "<center><h1>HEFS API Overview</h1></center>"
   ]
  },
  {
   "cell_type": "markdown",
   "id": "8010eaed-6ead-4f13-b505-1ada05f76284",
   "metadata": {},
   "source": [
    "The HEFS is a system developed by the National Weather Service (NWS) to provide ensemble streamflow predictions.  HEFS has been implemented at NWS River Forecast Centers (RFCs) for over 3,000 locations throughout the United States.  HEFS integrates meteorological forecasts with hydrologic modeling to produce probabilistic streamflow forecasts and other hydrological variables.  The system assesses the potential impacts of high-flow events and assesses flood risk.  Most importantly, HEFS is a valuable tool for decision-makers and emergency managers, providing them with the necessary information to make informed decisions about water-related activities and potential flood hazards.\n",
    "\n",
    "This new API provides access to real-time and historical NWS HEFS forecasts for NWS forecasters/users, external partners, stakeholders, and customers via a publicly available data service endpoint. \n"
   ]
  },
  {
   "cell_type": "markdown",
   "id": "0fae2dc4-f88f-4996-aadf-257b39a76269",
   "metadata": {},
   "source": [
    "In order to improve the delivery of HEFS data and information beyond the utility of a graphical display, an API data service has been developed to allow the integration of this data into third-party applications. \n",
    "\n",
    "The following data can be obtained from the HEFS API: \n",
    "\n",
    "Near real-time HEFS streamflow forecasts\n",
    "Near real-time HEFS basin-scale precipitation and temperature inputs.\n",
    "Archive of RFC disseminated HEFS Forecast XML \n",
    "\n",
    "The HEFS API provides several service endpoints to facilitate efficient querying of the data of interest. See the table below for descriptions of each API endpoint:\n"
   ]
  },
  {
   "cell_type": "markdown",
   "id": "bda282a3-f400-47c5-8f4f-7a74de8800b6",
   "metadata": {},
   "source": [
    "| Endpoint | Description |\n",
    "| --- | --- |\n",
    "| /v1/archives | Returns a list of HEFS XML files disseminated by the RFCs and ingested into the HEFS API (i.e. the raw data). The archive contains 30 days of XML files.  The response also includes a link to download the XML file. |\n",
    "| /v1/headers | Returns the headers from the RFC-provided XML files that have been ingested into the HEFS API.  Each ensemble member has a header associated with it. Subset of fields returned within the XML headers; these fields can be used to filter the API queries with other HEFS API endpoints: <br><br><strong>type</strong> - The type of data.  Possible values (instantaneous, accumulative, or mean).<br><strong>parameter_id</strong> - The variable being measured in the timeseries.<br><strong>location_id</strong> - Location identifier for the station.<br><strong>station_name</strong> - Full name of the station.<br><strong>lat</strong> - Latitude for the station.<br><strong>lon</strong> - Longitude for the station.<br><strong>z</strong> - Elevation for the station.<br><strong>ensemble_id</strong> - Identifier for the timeseries.<br><strong>ensemble_member_index</strong> - The index of the timeseries for the ensemble.  Typically the value is a year that corresponds to that member.<br><strong>time_step_unit</strong> - Unit for the timestep (Example: “second”).<br><strong>time_step_multiplier</strong> - Multiplier for the timestep.  (Example: “21600”) The time_step_unit and time_step_multiplier are combined to calculate the full time-step value.<br><strong>start_date_date</strong> - Date of the first value of the timeseries.<br><strong>start_date_time</strong> - Time of the first value of the timeseries.<br><strong>end_date_date</strong> - Date of the last value of the timeseries.<br><strong>end_date_time</strong> - Time of the last value of the timeseries.<br><strong>forecast_date_date</strong> - The date at which the model starts integrating forward into the forecast horizon (i.e. Forecast Time = 0). <br><strong>forecast_date_time</strong> - The time at which the model starts integrating forward into the forecast horizon (i.e. Forecast Time ≠ 0). <br><strong>miss_val</strong> - Value used in the timeseries to denote missing values.  Typically set to “NaN”.<br><strong>units</strong> - Measurement units.<br><strong>creation_date</strong> - Ensemble forecast creation date.<br><strong>creation_time</strong> - Ensemble forecast creation time. |\n",
    "|/v1/ensembles|Returns ensemble headers (metadata) and an ordered list of events (forecast time series data) across all HEFS forecast ensembles for locations of interest (up to the previous 30 days). Users are able to filter by multiple options including Location Identifier (LID), Parameter of Interest (parameterID), and date and time of interest.|\n",
    "|/v1/events|Returns forecast time series data (time/value pairs) from all HEFS forecast ensembles.  Exists to comply with Open API/OGC standards.|\n",
    "|/v1/graphql|Allows the user to customize their data request using GraphQL (ensembles, events, headers), to return data in any format desired.  GraphQL will also allow users to run a single query spanning multiple API endpoints.|"
   ]
  }
 ],
 "metadata": {
  "kernelspec": {
   "display_name": "conda_python3",
   "language": "python",
   "name": "conda_python3"
  },
  "language_info": {
   "codemirror_mode": {
    "name": "ipython",
    "version": 3
   },
   "file_extension": ".py",
   "mimetype": "text/x-python",
   "name": "python",
   "nbconvert_exporter": "python",
   "pygments_lexer": "ipython3",
   "version": "3.10.13"
  }
 },
 "nbformat": 4,
 "nbformat_minor": 5
}
