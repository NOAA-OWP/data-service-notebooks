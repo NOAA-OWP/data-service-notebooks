{
 "cells": [
  {
   "cell_type": "markdown",
   "id": "6ac6aead-6e7c-4d30-81ef-3cb7e55606b0",
   "metadata": {},
   "source": [
    "##Objectives:\n",
    "- Project Objectives\n",
    "- Understanding of API Calls\n",
    "- Simple Example\n"
   ]
  },
  {
   "cell_type": "code",
   "execution_count": null,
   "id": "dfd8d9c7-d6ec-4012-9fc7-5b1f1e69a0e5",
   "metadata": {},
   "outputs": [],
   "source": [
    "###Project Objectives\n",
    "\n"
   ]
  },
  {
   "cell_type": "code",
   "execution_count": null,
   "id": "97d9cb0a-e6c4-425f-a975-d0243eeba9ce",
   "metadata": {},
   "outputs": [],
   "source": [
    "###Understanding of API Calls"
   ]
  },
  {
   "cell_type": "code",
   "execution_count": null,
   "id": "4f011c9f-d02c-402d-987f-c40f3a1471fc",
   "metadata": {},
   "outputs": [],
   "source": [
    "###Simple Example\n"
   ]
  }
 ],
 "metadata": {
  "kernelspec": {
   "display_name": "conda_python3",
   "language": "python",
   "name": "conda_python3"
  },
  "language_info": {
   "codemirror_mode": {
    "name": "ipython",
    "version": 3
   },
   "file_extension": ".py",
   "mimetype": "text/x-python",
   "name": "python",
   "nbconvert_exporter": "python",
   "pygments_lexer": "ipython3",
   "version": "3.10.13"
  }
 },
 "nbformat": 4,
 "nbformat_minor": 5
}
