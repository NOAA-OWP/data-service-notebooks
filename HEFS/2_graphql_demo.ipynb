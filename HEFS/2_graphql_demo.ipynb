{
 "cells": [
  {
   "cell_type": "markdown",
   "metadata": {},
   "source": [
    "# GraphQL (Preview, Limited Functionality)\n",
    "\n",
    "NOTE: GraphQL will be part of the 1.1 release anticipated in Q1 2025\n",
    "\n",
    "The HEFS API provides a GraphQL endpoint for querying data.\n",
    "\n",
    "GraphQL is a query language for APIs and a runtime for fulfilling those queries with your existing data. GraphQL provides a complete and understandable description of the data in your API, gives clients the power to ask for exactly what they need and nothing more, makes it easier to evolve APIs over time, and enables powerful developer tools.\n",
    "\n",
    "This notebook demonstrates how to use the HEFS GraphQL endpoint to query data. We will follow the same path as the prior notebook."
   ]
  },
  {
   "cell_type": "markdown",
   "metadata": {},
   "source": [
    "We will use the same code as in our REST_DEMO notebook to get the data we want to query.  So run the following cell to get set up.\n",
    "\n",
    "** Remember to set the API_ENDPOINT to the correct value for your environment. **"
   ]
  },
  {
   "cell_type": "code",
   "execution_count": 9,
   "metadata": {
    "tags": []
   },
   "outputs": [],
   "source": [
    "# start by importing the requests library\n",
    "import requests\n",
    "# import the pprint library to make the output more readable\n",
    "from pprint import pprint\n",
    "# define the api-endpoint\n",
    "# Note: API Endpoint will change to https://api.water.noaa.gov/hefs/ after testing is complete\n",
    "API_ENDPOINT = \"https://testing-api.water.noaa.gov/hefs/\""
   ]
  },
  {
   "cell_type": "markdown",
   "metadata": {},
   "source": [
    "## Simple Query\n",
    "\n",
    "## Understanding GraphQL and Making Queries\n",
    "\n",
    "GraphQL is a query language for your API that enables clients to request exactly the data they need. Unlike REST APIs, where you have to hit multiple endpoints to fetch different pieces of data, GraphQL allows you to get all your data in a single request. This makes data retrieval more efficient and flexible.\n",
    "\n",
    "Notice that we are using the terms edges and nodes, which should be familiar to those who have worked with network structures.  But you can interchange those with your own terms, as GraphQL allows both the queries and definition."
   ]
  },
  {
   "cell_type": "markdown",
   "metadata": {},
   "source": [
    "### Retrieving Series Data\n",
    "\n",
    "Here we are getting the series list from the api, this the is GraphQL equivalent of the ```/series/```REST endpoint."
   ]
  },
  {
   "cell_type": "code",
   "execution_count": 10,
   "metadata": {
    "tags": []
   },
   "outputs": [
    {
     "name": "stdout",
     "output_type": "stream",
     "text": [
      "{'seriesList': {'edges': []}}\n"
     ]
    }
   ],
   "source": [
    "# Define the GraphQL query as a Python string\n",
    "graphql_query = '''\n",
    "{\n",
    "  seriesList {\n",
    "    edges {\n",
    "      node {\n",
    "        id\n",
    "        type\n",
    "        locationId\n",
    "        parameterId\n",
    "        ensembleId\n",
    "        ensembleMemberIndex\n",
    "        timeStepUnit\n",
    "        timeStepMultiplier\n",
    "        startDateDate\n",
    "        startDateTime\n",
    "        endDateDate\n",
    "        endDateTime\n",
    "        forecastDateDate\n",
    "        forecastDateTime\n",
    "        missVal\n",
    "        stationName\n",
    "        lat\n",
    "        lon\n",
    "        x\n",
    "        y\n",
    "        z\n",
    "        units\n",
    "        creationDate\n",
    "        creationTime\n",
    "      }\n",
    "    }\n",
    "  }\n",
    "}\n",
    "'''\n",
    "# Create a dictionary to send the query\n",
    "payload = {\"query\": graphql_query}\n",
    "\n",
    "# Create the series request\n",
    "uri = API_ENDPOINT + \"/v1/graphql/\"\n",
    "\n",
    "# Perform a POST request to get the response\n",
    "response = requests.post(uri, json=payload, timeout=10, header=header)\n",
    "\n",
    "# Print the response\n",
    "pprint(response.json())"
   ]
  },
  {
   "cell_type": "markdown",
   "metadata": {},
   "source": [
    "## Limiting Number of Results\n",
    "\n",
    "You can limit the number of results returned by using the limit parameter. For example, to limit the number of results to 10, using the `first: 2` which will begin with the first item of the list, and return 2.\n",
    "\n",
    "This is equivalent to the REST query `/v1/series/?limit=2&offset=0` "
   ]
  },
  {
   "cell_type": "code",
   "execution_count": 7,
   "metadata": {
    "tags": []
   },
   "outputs": [
    {
     "name": "stdout",
     "output_type": "stream",
     "text": [
      "{'seriesList': {'edges': []}}\n"
     ]
    }
   ],
   "source": [
    "# Define the GraphQL query as a Python string\n",
    "graphql_query = '''\n",
    "{\n",
    "  seriesList(first: 2) {\n",
    "    edges {\n",
    "      node {\n",
    "        id\n",
    "        type\n",
    "        locationId\n",
    "        parameterId\n",
    "        ensembleId\n",
    "        ensembleMemberIndex\n",
    "        timeStepUnit\n",
    "        timeStepMultiplier\n",
    "        startDateDate\n",
    "        startDateTime\n",
    "        endDateDate\n",
    "        endDateTime\n",
    "        forecastDateDate\n",
    "        forecastDateTime\n",
    "        missVal\n",
    "        stationName\n",
    "        lat\n",
    "        lon\n",
    "        x\n",
    "        y\n",
    "        z\n",
    "        units\n",
    "        creationDate\n",
    "        creationTime\n",
    "      }\n",
    "    }\n",
    "  }\n",
    "}\n",
    "'''\n",
    "# Create a dictionary to send the query\n",
    "payload = {\"query\": graphql_query}\n",
    "\n",
    "# Create the series request\n",
    "uri = API_ENDPOINT + \"/v1/graphql/\"\n",
    "\n",
    "# Perform a POST request to get the response\n",
    "response = requests.post(uri, json=payload, header=header)\n",
    "\n",
    "# Print the response\n",
    "pprint(response.json())"
   ]
  },
  {
   "cell_type": "markdown",
   "metadata": {},
   "source": [
    "Here is an example of how you would extract the last id from the JSON above (we will use it soon)."
   ]
  },
  {
   "cell_type": "code",
   "execution_count": 8,
   "metadata": {
    "tags": []
   },
   "outputs": [
    {
     "ename": "IndexError",
     "evalue": "list index out of range",
     "output_type": "error",
     "traceback": [
      "\u001b[0;31m---------------------------------------------------------------------------\u001b[0m",
      "\u001b[0;31mIndexError\u001b[0m                                Traceback (most recent call last)",
      "Cell \u001b[0;32mIn[8], line 2\u001b[0m\n\u001b[1;32m      1\u001b[0m \u001b[38;5;66;03m# Extract the last ID\u001b[39;00m\n\u001b[0;32m----> 2\u001b[0m last_id \u001b[38;5;241m=\u001b[39m \u001b[43mresponse\u001b[49m\u001b[38;5;241;43m.\u001b[39;49m\u001b[43mjson\u001b[49m\u001b[43m(\u001b[49m\u001b[43m)\u001b[49m\u001b[38;5;241;43m.\u001b[39;49m\u001b[43mget\u001b[49m\u001b[43m(\u001b[49m\u001b[38;5;124;43m'\u001b[39;49m\u001b[38;5;124;43mseriesList\u001b[39;49m\u001b[38;5;124;43m'\u001b[39;49m\u001b[43m,\u001b[49m\u001b[43m \u001b[49m\u001b[43m{\u001b[49m\u001b[43m}\u001b[49m\u001b[43m)\u001b[49m\u001b[38;5;241;43m.\u001b[39;49m\u001b[43mget\u001b[49m\u001b[43m(\u001b[49m\u001b[38;5;124;43m'\u001b[39;49m\u001b[38;5;124;43medges\u001b[39;49m\u001b[38;5;124;43m'\u001b[39;49m\u001b[43m,\u001b[49m\u001b[43m \u001b[49m\u001b[43m[\u001b[49m\u001b[43m]\u001b[49m\u001b[43m)\u001b[49m\u001b[43m[\u001b[49m\u001b[38;5;241;43m-\u001b[39;49m\u001b[38;5;241;43m1\u001b[39;49m\u001b[43m]\u001b[49m\u001b[38;5;241m.\u001b[39mget(\u001b[38;5;124m'\u001b[39m\u001b[38;5;124mnode\u001b[39m\u001b[38;5;124m'\u001b[39m, {})\u001b[38;5;241m.\u001b[39mget(\u001b[38;5;124m'\u001b[39m\u001b[38;5;124mid\u001b[39m\u001b[38;5;124m'\u001b[39m, \u001b[38;5;28;01mNone\u001b[39;00m)\n\u001b[1;32m      4\u001b[0m \u001b[38;5;66;03m# Print the last ID\u001b[39;00m\n\u001b[1;32m      5\u001b[0m \u001b[38;5;28mprint\u001b[39m(\u001b[38;5;124m\"\u001b[39m\u001b[38;5;124mLast ID:\u001b[39m\u001b[38;5;124m\"\u001b[39m, last_id)\n",
      "\u001b[0;31mIndexError\u001b[0m: list index out of range"
     ]
    }
   ],
   "source": [
    "# Extract the last ID\n",
    "last_id = response.json().get('seriesList', {}).get('edges', [])[-1].get('node', {}).get('id', None)\n",
    "\n",
    "# Print the last ID\n",
    "print(\"Last ID:\", last_id)"
   ]
  },
  {
   "cell_type": "markdown",
   "metadata": {},
   "source": [
    "## Pagination\n",
    "\n",
    "To achieve pagination, you user the `first: 2, after: <<uid>>`, which yields 10 results that follow the first 2.\n",
    "\n",
    "This is the equivalent to the REST query: `v1/series/?limit=2&offset=2`.\n",
    "\n",
    "There is nothing magical about the 2 here, we are limiting the results for notebook readability.\n",
    "\n",
    "Notice there is a difference between GraphQL and REST here.  GraphQL uses the id of the last record for the offset.  This is because the after is really a cursor, so it will always be a string (to allow string values) and it will \"point\" to the record.  Hence we use the id of the last record.\n",
    "\n",
    "This, along with Camel Case of underbars, hearkens back to the purpose of GraphQL, get just the JSON you need, and no more.ursors.\n"
   ]
  },
  {
   "cell_type": "code",
   "execution_count": 10,
   "metadata": {
    "scrolled": true,
    "tags": []
   },
   "outputs": [
    {
     "ename": "NameError",
     "evalue": "name 'last_id' is not defined",
     "output_type": "error",
     "traceback": [
      "\u001b[0;31m---------------------------------------------------------------------------\u001b[0m",
      "\u001b[0;31mNameError\u001b[0m                                 Traceback (most recent call last)",
      "Cell \u001b[0;32mIn[10], line 9\u001b[0m\n\u001b[1;32m      2\u001b[0m \u001b[38;5;28;01mfrom\u001b[39;00m \u001b[38;5;21;01mpprint\u001b[39;00m \u001b[38;5;28;01mimport\u001b[39;00m pprint\n\u001b[1;32m      4\u001b[0m \u001b[38;5;66;03m# we are using the last_id from the last cell, so run it first\u001b[39;00m\n\u001b[1;32m      5\u001b[0m \n\u001b[1;32m      6\u001b[0m \u001b[38;5;66;03m# Use the extracted last ID as the \"after\" parameter in the second query\u001b[39;00m\n\u001b[1;32m      7\u001b[0m graphql_query \u001b[38;5;241m=\u001b[39m \u001b[38;5;124mf\u001b[39m\u001b[38;5;124m'''\u001b[39m\n\u001b[1;32m      8\u001b[0m \u001b[38;5;130;01m{{\u001b[39;00m\n\u001b[0;32m----> 9\u001b[0m \u001b[38;5;124m  seriesList(first: 2, after: \u001b[39m\u001b[38;5;124m\"\u001b[39m\u001b[38;5;132;01m{\u001b[39;00m\u001b[43mlast_id\u001b[49m\u001b[38;5;132;01m}\u001b[39;00m\u001b[38;5;124m\"\u001b[39m\u001b[38;5;124m) \u001b[39m\u001b[38;5;130;01m{{\u001b[39;00m\n\u001b[1;32m     10\u001b[0m \u001b[38;5;124m    edges \u001b[39m\u001b[38;5;130;01m{{\u001b[39;00m\n\u001b[1;32m     11\u001b[0m \u001b[38;5;124m      node \u001b[39m\u001b[38;5;130;01m{{\u001b[39;00m\n\u001b[1;32m     12\u001b[0m \u001b[38;5;124m        id\u001b[39m\n\u001b[1;32m     13\u001b[0m \u001b[38;5;124m        type\u001b[39m\n\u001b[1;32m     14\u001b[0m \u001b[38;5;124m        locationId\u001b[39m\n\u001b[1;32m     15\u001b[0m \u001b[38;5;124m        parameterId\u001b[39m\n\u001b[1;32m     16\u001b[0m \u001b[38;5;124m        ensembleId\u001b[39m\n\u001b[1;32m     17\u001b[0m \u001b[38;5;124m        ensembleMemberIndex\u001b[39m\n\u001b[1;32m     18\u001b[0m \u001b[38;5;124m        timeStepUnit\u001b[39m\n\u001b[1;32m     19\u001b[0m \u001b[38;5;124m        timeStepMultiplier\u001b[39m\n\u001b[1;32m     20\u001b[0m \u001b[38;5;124m        startDateDate\u001b[39m\n\u001b[1;32m     21\u001b[0m \u001b[38;5;124m        startDateTime\u001b[39m\n\u001b[1;32m     22\u001b[0m \u001b[38;5;124m        endDateDate\u001b[39m\n\u001b[1;32m     23\u001b[0m \u001b[38;5;124m        endDateTime\u001b[39m\n\u001b[1;32m     24\u001b[0m \u001b[38;5;124m        forecastDateDate\u001b[39m\n\u001b[1;32m     25\u001b[0m \u001b[38;5;124m        forecastDateTime\u001b[39m\n\u001b[1;32m     26\u001b[0m \u001b[38;5;124m        missVal\u001b[39m\n\u001b[1;32m     27\u001b[0m \u001b[38;5;124m        stationName\u001b[39m\n\u001b[1;32m     28\u001b[0m \u001b[38;5;124m        lat\u001b[39m\n\u001b[1;32m     29\u001b[0m \u001b[38;5;124m        lon\u001b[39m\n\u001b[1;32m     30\u001b[0m \u001b[38;5;124m        x\u001b[39m\n\u001b[1;32m     31\u001b[0m \u001b[38;5;124m        y\u001b[39m\n\u001b[1;32m     32\u001b[0m \u001b[38;5;124m        z\u001b[39m\n\u001b[1;32m     33\u001b[0m \u001b[38;5;124m        units\u001b[39m\n\u001b[1;32m     34\u001b[0m \u001b[38;5;124m        creationDate\u001b[39m\n\u001b[1;32m     35\u001b[0m \u001b[38;5;124m        creationTime\u001b[39m\n\u001b[1;32m     36\u001b[0m \u001b[38;5;124m      \u001b[39m\u001b[38;5;130;01m}}\u001b[39;00m\n\u001b[1;32m     37\u001b[0m \u001b[38;5;124m    \u001b[39m\u001b[38;5;130;01m}}\u001b[39;00m\n\u001b[1;32m     38\u001b[0m \u001b[38;5;124m  \u001b[39m\u001b[38;5;130;01m}}\u001b[39;00m\n\u001b[1;32m     39\u001b[0m \u001b[38;5;130;01m}}\u001b[39;00m\n\u001b[1;32m     40\u001b[0m \u001b[38;5;124m'''\u001b[39m\n\u001b[1;32m     42\u001b[0m \u001b[38;5;66;03m# Create a dictionary to send the second query\u001b[39;00m\n\u001b[1;32m     43\u001b[0m second_query_payload \u001b[38;5;241m=\u001b[39m {\u001b[38;5;124m\"\u001b[39m\u001b[38;5;124mquery\u001b[39m\u001b[38;5;124m\"\u001b[39m: graphql_query}\n",
      "\u001b[0;31mNameError\u001b[0m: name 'last_id' is not defined"
     ]
    }
   ],
   "source": [
    "import requests\n",
    "from pprint import pprint\n",
    "\n",
    "# we are using the last_id from the last cell, so run it first\n",
    "\n",
    "# Use the extracted last ID as the \"after\" parameter in the second query\n",
    "graphql_query = f'''\n",
    "{{\n",
    "  seriesList(first: 2, after: \"{last_id}\") {{\n",
    "    edges {{\n",
    "      node {{\n",
    "        id\n",
    "        type\n",
    "        locationId\n",
    "        parameterId\n",
    "        ensembleId\n",
    "        ensembleMemberIndex\n",
    "        timeStepUnit\n",
    "        timeStepMultiplier\n",
    "        startDateDate\n",
    "        startDateTime\n",
    "        endDateDate\n",
    "        endDateTime\n",
    "        forecastDateDate\n",
    "        forecastDateTime\n",
    "        missVal\n",
    "        stationName\n",
    "        lat\n",
    "        lon\n",
    "        x\n",
    "        y\n",
    "        z\n",
    "        units\n",
    "        creationDate\n",
    "        creationTime\n",
    "      }}\n",
    "    }}\n",
    "  }}\n",
    "}}\n",
    "'''\n",
    "\n",
    "# Create a dictionary to send the second query\n",
    "second_query_payload = {\"query\": graphql_query}\n",
    "\n",
    "# Perform a POST request to get the response for the second query\n",
    "response = requests.post(uri, json=second_query_payload)\n",
    "\n",
    "# Print the response\n",
    "pprint(response.json())\n"
   ]
  },
  {
   "cell_type": "markdown",
   "metadata": {},
   "source": [
    "## Filtering Data with GraphQL\n",
    "\n",
    "In GraphQL, you can retrieve a subset of data series and apply filtering using query parameters directly in the query itself.\n",
    "Here, we are filtering on location ids and parameter ids.\n",
    "\n",
    "The REST equivalent would be: `\n",
    "/v1/series/?limit=10&offset=10&parameter_id=QUINE&location_id=MILN` but with way more unwanted data for the client to filter and manage.4"
   ]
  },
  {
   "cell_type": "code",
   "execution_count": 7,
   "metadata": {
    "tags": []
   },
   "outputs": [
    {
     "name": "stdout",
     "output_type": "stream",
     "text": [
      "{'seriesList': {'edges': []}}\n"
     ]
    }
   ],
   "source": [
    "# Define the GraphQL query as a Python string\n",
    "graphql_query = '''\n",
    "{\n",
    "  seriesList(locationIds: [\"PPPN4\"], parameterIds: [\"QINE\"]) {\n",
    "    edges {\n",
    "      node {\n",
    "        locationId\n",
    "        parameterId\n",
    "        stationName\n",
    "      }\n",
    "    }\n",
    "  }\n",
    "}\n",
    "'''\n",
    "# Create a dictionary to send the query\n",
    "payload = {\"query\": graphql_query}\n",
    "\n",
    "# Create the series request\n",
    "uri = API_ENDPOINT + \"/v1/graphql/\"\n",
    "\n",
    "# Perform a POST request to get the response\n",
    "response = requests.post(uri, json=payload, header=header)\n",
    "\n",
    "# Print the response\n",
    "pprint(response.json())"
   ]
  },
  {
   "cell_type": "markdown",
   "metadata": {},
   "source": [
    "## Filtering Data Based on Multiple Parameters\n",
    "\n",
    "In some use cases, you might want to retrieve data that matches more than one parameter value.\n",
    "\n",
    "`/v1/series/?location_id[]=MILN4&location_id[]=MILN5`"
   ]
  },
  {
   "cell_type": "code",
   "execution_count": 8,
   "metadata": {},
   "outputs": [
    {
     "name": "stdout",
     "output_type": "stream",
     "text": [
      "{'seriesList': {'edges': []}}\n"
     ]
    }
   ],
   "source": [
    "# Define the GraphQL query as a Python string\n",
    "graphql_query = '''\n",
    "{\n",
    "  seriesList(locationIds: [\"MILN4\", \"MILN5\"]) { \n",
    "    edges {\n",
    "      node {\n",
    "        type\n",
    "        locationId\n",
    "        parameterId\n",
    "        ensembleId\n",
    "        ensembleMemberIndex\n",
    "        timeStepUnit\n",
    "        timeStepMultiplier\n",
    "        startDateDate\n",
    "        startDateTime\n",
    "        endDateDate\n",
    "        endDateTime\n",
    "        forecastDateDate\n",
    "        forecastDateTime\n",
    "        missVal\n",
    "        stationName\n",
    "        lat\n",
    "        lon\n",
    "        x\n",
    "        y\n",
    "        z\n",
    "        units\n",
    "        creationDate\n",
    "        creationTime\n",
    "      }\n",
    "    }\n",
    "  }\n",
    "}\n",
    "'''\n",
    "# Create a dictionary to send the query\n",
    "payload = {\"query\": graphql_query}\n",
    "\n",
    "# Create the series request\n",
    "uri = API_ENDPOINT + \"/v1/graphql/\"\n",
    "\n",
    "# Perform a POST request to get the response\n",
    "response = requests.post(uri, json=payload, header=header)\n",
    "\n",
    "# Print the response\n",
    "pprint(response.json())"
   ]
  },
  {
   "cell_type": "markdown",
   "metadata": {},
   "source": [
    "# End Notes\n",
    "\n",
    "This concludes this notebook, you will notice that we covered simple queries, but this should be enough to get a start on the capabilities of the GraphQL interface.\n",
    "\n",
    "The next notebook will pick up where we are leaving off, and cover GraphQL in more detail, and present relay queries, "
   ]
  }
 ],
 "metadata": {
  "kernelspec": {
   "display_name": "conda_python3",
   "language": "python",
   "name": "conda_python3"
  },
  "language_info": {
   "codemirror_mode": {
    "name": "ipython",
    "version": 3
   },
   "file_extension": ".py",
   "mimetype": "text/x-python",
   "name": "python",
   "nbconvert_exporter": "python",
   "pygments_lexer": "ipython3",
   "version": "3.10.13"
  }
 },
 "nbformat": 4,
 "nbformat_minor": 4
}
