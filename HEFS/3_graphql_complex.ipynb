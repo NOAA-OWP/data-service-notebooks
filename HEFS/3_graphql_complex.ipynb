{
 "cells": [
  {
   "cell_type": "markdown",
   "metadata": {},
   "source": [
    "# GraphQL Advanced (Preview, Limited Functionality)\n",
    "\n",
    "NOTE: GraphQL will be part of the 1.1 release anticipated in Q1 2025\n",
    "\n",
    "This notebook picks up from where the last GraphQL notebook left off.\n",
    "\n",
    "We will introduce more complex queries and will cover some example applications."
   ]
  },
  {
   "cell_type": "markdown",
   "metadata": {},
   "source": [
    "We will use the same code as in our REST_DEMO notebook to get the data we want to query.  So run the following cell to get set up.\n",
    "\n",
    "** Remember to set the API_ENDPOINT to the correct value for your environment. **"
   ]
  },
  {
   "cell_type": "code",
   "execution_count": 1,
   "metadata": {
    "tags": []
   },
   "outputs": [],
   "source": [
    "# start by importing the requests library\n",
    "import requests\n",
    "import base64\n",
    "# import the pprint library to make the output more readable\n",
    "from pprint import pprint\n",
    "# define the api-endpoint\n",
    "# Note: API Endpoint will change to https://api.water.noaa.gov/hefs/ after testing is complete\n",
    "API_ENDPOINT = \"https://testing-api.water.noaa.gov/hefs/\""
   ]
  },
  {
   "cell_type": "markdown",
   "metadata": {},
   "source": [
    "## Leveraging GraphQL Relay\n",
    "\n",
    "Relay is a framework for building efficient and performant GraphQL APIs client applications. Relays are used to simplify data fetching and improve pagination and caching.\n",
    "\n",
    "We will leave the details to the GraphQL documentation, but here are some high level points in review:\n",
    "- Connection: lists of data with edges and nodes\n",
    "- \n",
    "Edges:Items in the connection (hello graph theory...).- \n",
    "Nodes: Data items with unique identifiers- .\n",
    "Cursorstrings that \"walk\" the data set, to aid in paginationo- n.\n",
    "Pagination: Cursor-based navigation through d\n",
    "\n",
    "We have seen edges, nodes, cursors and pagination -- the connections have been underneath, but it is time to \"break some eggs\".ata."
   ]
  },
  {
   "cell_type": "markdown",
   "metadata": {},
   "source": [
    "### Retrieving Series Data\n",
    "\n",
    "Now we are going to revisit getting a series, but we will include its event data.\n",
    "\n",
    "Given the underlying connections, GraphQL wise this is very simple, we add events and their underlying graph along with the series meta data.  But we need an id first:"
   ]
  },
  {
   "cell_type": "code",
   "execution_count": 2,
   "metadata": {
    "tags": []
   },
   "outputs": [
    {
     "name": "stdout",
     "output_type": "stream",
     "text": [
      "Response: \n",
      "{'seriesList': {'edges': []}}\n"
     ]
    },
    {
     "ename": "IndexError",
     "evalue": "list index out of range",
     "output_type": "error",
     "traceback": [
      "\u001b[0;31m---------------------------------------------------------------------------\u001b[0m",
      "\u001b[0;31mIndexError\u001b[0m                                Traceback (most recent call last)",
      "Cell \u001b[0;32mIn[2], line 28\u001b[0m\n\u001b[1;32m     25\u001b[0m pprint(response\u001b[38;5;241m.\u001b[39mjson())\n\u001b[1;32m     27\u001b[0m \u001b[38;5;66;03m# Get the first node\u001b[39;00m\n\u001b[0;32m---> 28\u001b[0m first_node \u001b[38;5;241m=\u001b[39m \u001b[43mresponse\u001b[49m\u001b[38;5;241;43m.\u001b[39;49m\u001b[43mjson\u001b[49m\u001b[43m(\u001b[49m\u001b[43m)\u001b[49m\u001b[38;5;241;43m.\u001b[39;49m\u001b[43mget\u001b[49m\u001b[43m(\u001b[49m\u001b[38;5;124;43m'\u001b[39;49m\u001b[38;5;124;43mseriesList\u001b[39;49m\u001b[38;5;124;43m'\u001b[39;49m\u001b[43m,\u001b[49m\u001b[43m \u001b[49m\u001b[43m{\u001b[49m\u001b[43m}\u001b[49m\u001b[43m)\u001b[49m\u001b[38;5;241;43m.\u001b[39;49m\u001b[43mget\u001b[49m\u001b[43m(\u001b[49m\u001b[38;5;124;43m'\u001b[39;49m\u001b[38;5;124;43medges\u001b[39;49m\u001b[38;5;124;43m'\u001b[39;49m\u001b[43m,\u001b[49m\u001b[43m \u001b[49m\u001b[43m[\u001b[49m\u001b[43m]\u001b[49m\u001b[43m)\u001b[49m\u001b[43m[\u001b[49m\u001b[38;5;241;43m0\u001b[39;49m\u001b[43m]\u001b[49m\u001b[38;5;241m.\u001b[39mget(\u001b[38;5;124m'\u001b[39m\u001b[38;5;124mnode\u001b[39m\u001b[38;5;124m'\u001b[39m, {})\u001b[38;5;241m.\u001b[39mget(\u001b[38;5;124m'\u001b[39m\u001b[38;5;124mid\u001b[39m\u001b[38;5;124m'\u001b[39m, \u001b[38;5;28;01mNone\u001b[39;00m)\n\u001b[1;32m     30\u001b[0m \u001b[38;5;66;03m# Decode from base64 -- thanks JSON\u001b[39;00m\n\u001b[1;32m     31\u001b[0m first_node \u001b[38;5;241m=\u001b[39m base64\u001b[38;5;241m.\u001b[39mb64decode(first_node)\u001b[38;5;241m.\u001b[39mdecode(\u001b[38;5;124m'\u001b[39m\u001b[38;5;124mutf-8\u001b[39m\u001b[38;5;124m'\u001b[39m)\n",
      "\u001b[0;31mIndexError\u001b[0m: list index out of range"
     ]
    }
   ],
   "source": [
    "# simple query for the first id\n",
    "graphql_query = '''\n",
    "query {\n",
    "  seriesList(first: 1) {\n",
    "    edges {\n",
    "      node {\n",
    "        id\n",
    "      }\n",
    "    }\n",
    "  }\n",
    "}\n",
    "'''\n",
    "\n",
    "# Create a dictionary to send the query\n",
    "payload = {\"query\": graphql_query}\n",
    "\n",
    "# Create the series request\n",
    "uri = API_ENDPOINT + \"/v1/graphql/\"\n",
    "\n",
    "# Perform a POST request to get the response\n",
    "response = requests.post(uri, json=payload, headers=headers)\n",
    "\n",
    "# Print the response\n",
    "print(\"Response: \")\n",
    "pprint(response.json())\n",
    "\n",
    "# Get the first node\n",
    "first_node = response.json().get('seriesList', {}).get('edges', [])[0].get('node', {}).get('id', None)\n",
    "\n",
    "# Decode from base64 -- thanks JSON\n",
    "first_node = base64.b64decode(first_node).decode('utf-8')\n",
    "\n",
    "# Strip off series type\n",
    "first_node = first_node.split(':')[1]\n",
    "\n",
    "# Print\n",
    "print(\"\\nFirst node: \" + first_node)"
   ]
  },
  {
   "cell_type": "code",
   "execution_count": 3,
   "metadata": {
    "tags": []
   },
   "outputs": [
    {
     "ename": "NameError",
     "evalue": "name 'first_node' is not defined",
     "output_type": "error",
     "traceback": [
      "\u001b[0;31m---------------------------------------------------------------------------\u001b[0m",
      "\u001b[0;31mNameError\u001b[0m                                 Traceback (most recent call last)",
      "Cell \u001b[0;32mIn[3], line 4\u001b[0m\n\u001b[1;32m      1\u001b[0m \u001b[38;5;66;03m# Define the GraphQL query as a Python string\u001b[39;00m\n\u001b[1;32m      2\u001b[0m graphql_query \u001b[38;5;241m=\u001b[39m \u001b[38;5;124mf\u001b[39m\u001b[38;5;124m'''\u001b[39m\n\u001b[1;32m      3\u001b[0m \u001b[38;5;130;01m{{\u001b[39;00m\n\u001b[0;32m----> 4\u001b[0m \u001b[38;5;124m  series(id: \u001b[39m\u001b[38;5;124m\"\u001b[39m\u001b[38;5;132;01m{\u001b[39;00m\u001b[43mfirst_node\u001b[49m\u001b[38;5;132;01m}\u001b[39;00m\u001b[38;5;124m\"\u001b[39m\u001b[38;5;124m) \u001b[39m\u001b[38;5;130;01m{{\u001b[39;00m\n\u001b[1;32m      5\u001b[0m \u001b[38;5;124m    id\u001b[39m\n\u001b[1;32m      6\u001b[0m \u001b[38;5;124m    uuid\u001b[39m\n\u001b[1;32m      7\u001b[0m \u001b[38;5;124m    type\u001b[39m\n\u001b[1;32m      8\u001b[0m \u001b[38;5;124m    locationId\u001b[39m\n\u001b[1;32m      9\u001b[0m \u001b[38;5;124m    parameterId\u001b[39m\n\u001b[1;32m     10\u001b[0m \u001b[38;5;124m    ensembleId\u001b[39m\n\u001b[1;32m     11\u001b[0m \u001b[38;5;124m    ensembleMemberIndex\u001b[39m\n\u001b[1;32m     12\u001b[0m \u001b[38;5;124m    timeStepUnit\u001b[39m\n\u001b[1;32m     13\u001b[0m \u001b[38;5;124m    timeStepMultiplier\u001b[39m\n\u001b[1;32m     14\u001b[0m \u001b[38;5;124m    startDateDate\u001b[39m\n\u001b[1;32m     15\u001b[0m \u001b[38;5;124m    startDateTime\u001b[39m\n\u001b[1;32m     16\u001b[0m \u001b[38;5;124m    endDateDate\u001b[39m\n\u001b[1;32m     17\u001b[0m \u001b[38;5;124m    endDateTime\u001b[39m\n\u001b[1;32m     18\u001b[0m \u001b[38;5;124m    forecastDateDate\u001b[39m\n\u001b[1;32m     19\u001b[0m \u001b[38;5;124m    forecastDateTime\u001b[39m\n\u001b[1;32m     20\u001b[0m \u001b[38;5;124m    missVal\u001b[39m\n\u001b[1;32m     21\u001b[0m \u001b[38;5;124m    stationName\u001b[39m\n\u001b[1;32m     22\u001b[0m \u001b[38;5;124m    lat\u001b[39m\n\u001b[1;32m     23\u001b[0m \u001b[38;5;124m    lon\u001b[39m\n\u001b[1;32m     24\u001b[0m \u001b[38;5;124m    x\u001b[39m\n\u001b[1;32m     25\u001b[0m \u001b[38;5;124m    y\u001b[39m\n\u001b[1;32m     26\u001b[0m \u001b[38;5;124m    z\u001b[39m\n\u001b[1;32m     27\u001b[0m \u001b[38;5;124m    units\u001b[39m\n\u001b[1;32m     28\u001b[0m \u001b[38;5;124m    creationDate\u001b[39m\n\u001b[1;32m     29\u001b[0m \u001b[38;5;124m    creationTime\u001b[39m\n\u001b[1;32m     30\u001b[0m \u001b[38;5;124m    events \u001b[39m\u001b[38;5;130;01m{{\u001b[39;00m\n\u001b[1;32m     31\u001b[0m \u001b[38;5;124m      edges \u001b[39m\u001b[38;5;130;01m{{\u001b[39;00m\n\u001b[1;32m     32\u001b[0m \u001b[38;5;124m        node \u001b[39m\u001b[38;5;130;01m{{\u001b[39;00m\n\u001b[1;32m     33\u001b[0m \u001b[38;5;124m          id\u001b[39m\n\u001b[1;32m     34\u001b[0m \u001b[38;5;124m          date\u001b[39m\n\u001b[1;32m     35\u001b[0m \u001b[38;5;124m          time\u001b[39m\n\u001b[1;32m     36\u001b[0m \u001b[38;5;124m          value\u001b[39m\n\u001b[1;32m     37\u001b[0m \u001b[38;5;124m          flag\u001b[39m\n\u001b[1;32m     38\u001b[0m \u001b[38;5;124m        \u001b[39m\u001b[38;5;130;01m}}\u001b[39;00m\n\u001b[1;32m     39\u001b[0m \u001b[38;5;124m      \u001b[39m\u001b[38;5;130;01m}}\u001b[39;00m\n\u001b[1;32m     40\u001b[0m \u001b[38;5;124m    \u001b[39m\u001b[38;5;130;01m}}\u001b[39;00m\n\u001b[1;32m     41\u001b[0m \u001b[38;5;124m  \u001b[39m\u001b[38;5;130;01m}}\u001b[39;00m\n\u001b[1;32m     42\u001b[0m \u001b[38;5;130;01m}}\u001b[39;00m\n\u001b[1;32m     43\u001b[0m \u001b[38;5;124m'''\u001b[39m\n\u001b[1;32m     44\u001b[0m \u001b[38;5;66;03m# Create a dictionary to send the query\u001b[39;00m\n\u001b[1;32m     45\u001b[0m payload \u001b[38;5;241m=\u001b[39m {\u001b[38;5;124m\"\u001b[39m\u001b[38;5;124mquery\u001b[39m\u001b[38;5;124m\"\u001b[39m: graphql_query}\n",
      "\u001b[0;31mNameError\u001b[0m: name 'first_node' is not defined"
     ]
    }
   ],
   "source": [
    "# Define the GraphQL query as a Python string\n",
    "graphql_query = f'''\n",
    "{{\n",
    "  series(id: \"{first_node}\") {{\n",
    "    id\n",
    "    uuid\n",
    "    type\n",
    "    locationId\n",
    "    parameterId\n",
    "    ensembleId\n",
    "    ensembleMemberIndex\n",
    "    timeStepUnit\n",
    "    timeStepMultiplier\n",
    "    startDateDate\n",
    "    startDateTime\n",
    "    endDateDate\n",
    "    endDateTime\n",
    "    forecastDateDate\n",
    "    forecastDateTime\n",
    "    missVal\n",
    "    stationName\n",
    "    lat\n",
    "    lon\n",
    "    x\n",
    "    y\n",
    "    z\n",
    "    units\n",
    "    creationDate\n",
    "    creationTime\n",
    "    events {{\n",
    "      edges {{\n",
    "        node {{\n",
    "          id\n",
    "          date\n",
    "          time\n",
    "          value\n",
    "          flag\n",
    "        }}\n",
    "      }}\n",
    "    }}\n",
    "  }}\n",
    "}}\n",
    "'''\n",
    "# Create a dictionary to send the query\n",
    "payload = {\"query\": graphql_query}\n",
    "\n",
    "# Create the series request\n",
    "uri = API_ENDPOINT + \"/v1/graphql/\"\n",
    "\n",
    "# Perform a POST request to get the response\n",
    "response = requests.post(uri, json=payload, headers=headers)\n",
    "\n",
    "# Print the response\n",
    "pprint(response.json())"
   ]
  },
  {
   "cell_type": "code",
   "execution_count": 2,
   "metadata": {
    "tags": []
   },
   "outputs": [
    {
     "ename": "NameError",
     "evalue": "name 'response' is not defined",
     "output_type": "error",
     "traceback": [
      "\u001b[0;31m---------------------------------------------------------------------------\u001b[0m",
      "\u001b[0;31mNameError\u001b[0m                                 Traceback (most recent call last)",
      "Cell \u001b[0;32mIn[2], line 4\u001b[0m\n\u001b[1;32m      1\u001b[0m \u001b[38;5;28;01mimport\u001b[39;00m \u001b[38;5;21;01mmatplotlib\u001b[39;00m\u001b[38;5;21;01m.\u001b[39;00m\u001b[38;5;21;01mpyplot\u001b[39;00m \u001b[38;5;28;01mas\u001b[39;00m \u001b[38;5;21;01mplt\u001b[39;00m\n\u001b[1;32m      2\u001b[0m \u001b[38;5;28;01mfrom\u001b[39;00m \u001b[38;5;21;01mdatetime\u001b[39;00m \u001b[38;5;28;01mimport\u001b[39;00m datetime, timedelta\n\u001b[0;32m----> 4\u001b[0m data \u001b[38;5;241m=\u001b[39m \u001b[43mresponse\u001b[49m\u001b[38;5;241m.\u001b[39mjson()\n\u001b[1;32m      6\u001b[0m \u001b[38;5;66;03m# Extracting time and value data\u001b[39;00m\n\u001b[1;32m      7\u001b[0m times \u001b[38;5;241m=\u001b[39m []\n",
      "\u001b[0;31mNameError\u001b[0m: name 'response' is not defined"
     ]
    }
   ],
   "source": [
    "import matplotlib.pyplot as plt\n",
    "from datetime import datetime, timedelta\n",
    "\n",
    "data = response.json()\n",
    "\n",
    "# Extracting time and value data\n",
    "times = []\n",
    "values = []\n",
    "\n",
    "for edge in data['archives']['events']['edges']:\n",
    "    node = edge['node']\n",
    "    date_str = node['date']\n",
    "    time_str = node['time']\n",
    "    value = node['value']\n",
    "\n",
    "    # Combining date and time strings into a single datetime object\n",
    "    date_time_str = f\"{date_str} {time_str}\"\n",
    "    date_time_obj = datetime.strptime(date_time_str, '%Y-%m-%d %H:%M:%S')\n",
    "\n",
    "    # Adding data to lists\n",
    "    times.append(date_time_obj)\n",
    "    values.append(value)\n",
    "\n",
    "# Plotting the data\n",
    "plt.figure(figsize=(10, 5))\n",
    "plt.plot(times, values, marker='o', linestyle='-')\n",
    "plt.xlabel('Time')\n",
    "plt.ylabel('CFS')\n",
    "plt.title('Time vs Value Graph')\n",
    "plt.grid(True)\n",
    "plt.xticks(rotation=45)\n",
    "plt.tight_layout()\n",
    "\n",
    "# Show the plot\n",
    "plt.show()"
   ]
  },
  {
   "cell_type": "raw",
   "metadata": {},
   "source": [
    "# End Notes\n",
    "\n",
    "This concludes this notebook, you will notice that we covered simple queries, but this should be enough to get a start on the capabilities of the GraphQL interface.\n",
    "\n",
    "We covered more complex queries and used that data to build a graph..."
   ]
  },
  {
   "cell_type": "code",
   "execution_count": null,
   "metadata": {},
   "outputs": [],
   "source": []
  },
  {
   "cell_type": "code",
   "execution_count": null,
   "metadata": {},
   "outputs": [],
   "source": []
  },
  {
   "cell_type": "code",
   "execution_count": null,
   "metadata": {},
   "outputs": [],
   "source": []
  }
 ],
 "metadata": {
  "kernelspec": {
   "display_name": "conda_python3",
   "language": "python",
   "name": "conda_python3"
  },
  "language_info": {
   "codemirror_mode": {
    "name": "ipython",
    "version": 3
   },
   "file_extension": ".py",
   "mimetype": "text/x-python",
   "name": "python",
   "nbconvert_exporter": "python",
   "pygments_lexer": "ipython3",
   "version": "3.10.13"
  }
 },
 "nbformat": 4,
 "nbformat_minor": 4
}
