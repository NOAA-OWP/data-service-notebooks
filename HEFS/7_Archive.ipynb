{
 "cells": [
  {
   "cell_type": "markdown",
   "metadata": {},
   "source": [
    "# Welcome to the HEFS API Archive Notebook!\n",
    "\n",
    "This notebook will demonstrate how to use the HEFS API to archive and recover all of the input data it recieves.\n"
   ]
  },
  {
   "cell_type": "code",
   "execution_count": 1,
   "metadata": {},
   "outputs": [],
   "source": [
    "# Required Libraries\n",
    "import requests\n",
    "from pprint import pprint\n",
    "\n",
    "# API Endpoint Definition\n",
    "API_ENDPOINT = \"http://ip-10-27-93-27.ec2.internal:8000/api/hefs\"\n"
   ]
  },
  {
   "cell_type": "markdown",
   "metadata": {},
   "source": [
    "**Note**: Please change the API endpoint to match the server you are interacting with.\n"
   ]
  },
  {
   "cell_type": "markdown",
   "metadata": {},
   "source": [
    "## Archive List\n",
    "\n",
    "Here is the list for all archives"
   ]
  },
  {
   "cell_type": "code",
   "execution_count": 2,
   "metadata": {},
   "outputs": [
    {
     "name": "stdout",
     "output_type": "stream",
     "text": [
      "{'count': 0, 'next': None, 'previous': None, 'results': []}\n"
     ]
    }
   ],
   "source": [
    "# Example: Fetching Archives\n",
    "uri = \"/v1/archives/?limit=2\"\n",
    "response = requests.get(url = API_ENDPOINT + uri)\n",
    "pprint(response.json())\n"
   ]
  },
  {
   "cell_type": "code",
   "execution_count": 3,
   "metadata": {},
   "outputs": [
    {
     "ename": "IndexError",
     "evalue": "list index out of range",
     "output_type": "error",
     "traceback": [
      "\u001b[0;31m---------------------------------------------------------------------------\u001b[0m",
      "\u001b[0;31mIndexError\u001b[0m                                Traceback (most recent call last)",
      "Cell \u001b[0;32mIn[3], line 4\u001b[0m\n\u001b[1;32m      2\u001b[0m data \u001b[38;5;241m=\u001b[39m response\u001b[38;5;241m.\u001b[39mjson()\n\u001b[1;32m      3\u001b[0m \u001b[38;5;66;03m#get a valid id first\u001b[39;00m\n\u001b[0;32m----> 4\u001b[0m first_id \u001b[38;5;241m=\u001b[39m \u001b[43mdata\u001b[49m\u001b[43m[\u001b[49m\u001b[38;5;124;43m'\u001b[39;49m\u001b[38;5;124;43mresults\u001b[39;49m\u001b[38;5;124;43m'\u001b[39;49m\u001b[43m]\u001b[49m\u001b[43m[\u001b[49m\u001b[38;5;241;43m0\u001b[39;49m\u001b[43m]\u001b[49m[\u001b[38;5;124m'\u001b[39m\u001b[38;5;124mid\u001b[39m\u001b[38;5;124m'\u001b[39m]\n\u001b[1;32m      6\u001b[0m uri \u001b[38;5;241m=\u001b[39m \u001b[38;5;124mf\u001b[39m\u001b[38;5;124m\"\u001b[39m\u001b[38;5;124m/v1/archives/\u001b[39m\u001b[38;5;132;01m{\u001b[39;00mfirst_id\u001b[38;5;132;01m}\u001b[39;00m\u001b[38;5;124m\"\u001b[39m\n\u001b[1;32m      7\u001b[0m response \u001b[38;5;241m=\u001b[39m requests\u001b[38;5;241m.\u001b[39mget(url \u001b[38;5;241m=\u001b[39m API_ENDPOINT \u001b[38;5;241m+\u001b[39m uri)\n",
      "\u001b[0;31mIndexError\u001b[0m: list index out of range"
     ]
    }
   ],
   "source": [
    "# Example: Fetching An Archive\n",
    "data = response.json()\n",
    "#get a valid id first\n",
    "first_id = data['results'][0]['id']\n",
    "\n",
    "uri = f\"/v1/archives/{first_id}\"\n",
    "response = requests.get(url = API_ENDPOINT + uri)\n",
    "pprint(response.json())\n"
   ]
  },
  {
   "cell_type": "code",
   "execution_count": null,
   "metadata": {},
   "outputs": [],
   "source": [
    "# Example: Fetching An Archive as XML\n",
    "\n",
    "uri = f\"/v1/archives/{first_id}/download/\"\n",
    "response = requests.get(url = API_ENDPOINT + uri)\n",
    "\n",
    "xml_data = response.text\n",
    "print(xml_data)\n",
    "\n"
   ]
  },
  {
   "cell_type": "code",
   "execution_count": null,
   "metadata": {},
   "outputs": [],
   "source": [
    "# Example: Fetching An Archive as JSON\n",
    "headers = {'Accept': 'application/json'}\n",
    "\n",
    "uri = f\"/v1/archives/{first_id}/download/\"\n",
    "response = requests.get(url = API_ENDPOINT + uri, headers=headers)\n",
    "\n",
    "json_data = response.text\n",
    "print(json_data)\n",
    "\n"
   ]
  },
  {
   "cell_type": "code",
   "execution_count": null,
   "metadata": {},
   "outputs": [],
   "source": []
  }
 ],
 "metadata": {
  "kernelspec": {
   "display_name": "conda_python3",
   "language": "python",
   "name": "conda_python3"
  },
  "language_info": {
   "codemirror_mode": {
    "name": "ipython",
    "version": 3
   },
   "file_extension": ".py",
   "mimetype": "text/x-python",
   "name": "python",
   "nbconvert_exporter": "python",
   "pygments_lexer": "ipython3",
   "version": "3.10.13"
  }
 },
 "nbformat": 4,
 "nbformat_minor": 4
}
