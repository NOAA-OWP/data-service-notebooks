{
 "cells": [
  {
   "cell_type": "markdown",
   "metadata": {},
   "source": [
    "# Welcome to the HEFS API Metrics Notebook!\n",
    "\n",
    "This notebook will demonstrate how to use the HEFS API to retrieve metrics data.  The HEFS API is a RESTful API that provides access to data from the National Weather Service's Hydrologic Ensemble Forecast Service (HEFS).\n",
    "\n",
    "The HEFS API is currently in work and is subject to change.\n",
    "\n",
    "We begin by importing the necessary libraries and setting the endpoint for the HEFS API.\n"
   ]
  },
  {
   "cell_type": "code",
   "execution_count": 12,
   "metadata": {},
   "outputs": [],
   "source": [
    "# Required Libraries\n",
    "import requests\n",
    "from pprint import pprint\n",
    "\n",
    "# API Endpoint Definition\n",
    "# Note: API Endpoint will change to https://api.water.noaa.gov/hefs/ after testing is complete\n",
    "API_ENDPOINT = \"https://testing-api.water.noaa.gov/hefs/\"\n",
    "\n",
    "API_KEY = 'test'\n",
    "# set the authorization key in the header dictionary, including content type for completeness\n",
    "headers = {\n",
    "    'Authorization':f'Api-Key {API_KEY}',\n",
    "    'Content-Type': 'application/json'\n",
    "}\n"
   ]
  },
  {
   "cell_type": "markdown",
   "metadata": {},
   "source": [
    "**Note**: Please change the API endpoint to match the server you are interacting with.\n"
   ]
  },
  {
   "cell_type": "markdown",
   "metadata": {},
   "source": [
    "## User Logs\n",
    "\n",
    "We log all user transactions and their metrics we will use this information to both balance the system and the users.\n"
   ]
  },
  {
   "cell_type": "code",
   "execution_count": null,
   "metadata": {},
   "outputs": [],
   "source": [
    "# Example: Fetching Log\n",
    "uri = \"/metrics/logs/\"\n",
    "response = requests.get(url=API_ENDPOINT + uri, headers=headers)\n",
    "pprint(response.json())\n"
   ]
  },
  {
   "cell_type": "markdown",
   "metadata": {},
   "source": [
    "## User Logs Totals\n",
    "\n",
    "Here the totals are provided, based on all the logs\n",
    "\n",
    "There is capability for filtering on user and time, to provide individual usage by user id.\n"
   ]
  },
  {
   "cell_type": "code",
   "execution_count": 12,
   "metadata": {},
   "outputs": [
    {
     "name": "stdout",
     "output_type": "stream",
     "text": [
      "{'avg_process_time': 123.2614297153869,\n",
      " 'avg_response_size': 1055.1638345370977,\n",
      " 'count_of_records': 266525,\n",
      " 'total_process_time': 32852252.554893494,\n",
      " 'total_response_size': 281227541}\n"
     ]
    }
   ],
   "source": [
    "# Example: Fetching Log\n",
    "uri = \"/metrics/logs/totals/\"\n",
    "response = requests.get(url=API_ENDPOINT + uri, headers=headers)\n",
    "pprint(response.json())\n"
   ]
  },
  {
   "cell_type": "markdown",
   "metadata": {},
   "source": [
    "## System Metrics\n",
    "\n",
    "Here we track the user metrics.  This is intended to interoperate with the logging and pod manager to provide data required for scaling.\n"
   ]
  },
  {
   "cell_type": "code",
   "execution_count": 10,
   "metadata": {},
   "outputs": [
    {
     "name": "stdout",
     "output_type": "stream",
     "text": [
      "{'cpu_count': 8,\n",
      " 'cpu_load_15_min': 1.29638671875,\n",
      " 'cpu_load_1_min': 11.62890625,\n",
      " 'cpu_load_5_min': 3.56396484375,\n",
      " 'disk_free': 244002852864,\n",
      " 'disk_percent_used': 55.6,\n",
      " 'disk_used': 305673248768,\n",
      " 'memory_available': 29507362816,\n",
      " 'memory_percent_used': 11.3,\n",
      " 'memory_used': 3125284864,\n",
      " 'total_db_size': 149435830755,\n",
      " 'total_disk_space': 549676101632,\n",
      " 'total_memory': 33254903808}\n"
     ]
    }
   ],
   "source": [
    "# Example: Fetching Log\n",
    "uri = \"/metrics/system/\"\n",
    "response = requests.get(url=API_ENDPOINT + uri, headers=headers)\n",
    "pprint(response.json())\n"
   ]
  },
  {
   "cell_type": "markdown",
   "metadata": {},
   "source": []
  }
 ],
 "metadata": {
  "kernelspec": {
   "display_name": "conda_python3",
   "language": "python",
   "name": "conda_python3"
  },
  "language_info": {
   "codemirror_mode": {
    "name": "ipython",
    "version": 3
   },
   "file_extension": ".py",
   "mimetype": "text/x-python",
   "name": "python",
   "nbconvert_exporter": "python",
   "pygments_lexer": "ipython3",
   "version": "3.10.13"
  }
 },
 "nbformat": 4,
 "nbformat_minor": 4
}
