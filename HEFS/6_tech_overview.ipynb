{
 "cells": [
  {
   "cell_type": "code",
   "execution_count": null,
   "metadata": {},
   "outputs": [],
   "source": []
  },
  {
   "cell_type": "markdown",
   "metadata": {},
   "source": [
    "This is the CI/CD process used:\n",
    "1. Code is developed locally\n",
    "2. Code is committed to Git\n",
    "3. The QA version is manually triggered (will be automated with orchestration)\n",
    "4. The QA version is compiled and run"
   ]
  },
  {
   "cell_type": "markdown",
   "metadata": {},
   "source": []
  },
  {
   "cell_type": "markdown",
   "metadata": {},
   "source": [
    "Here is kuber_lamees.sh bash script that takes the place of orchstration (probably updated, so check source code):\n",
    "```bash\n",
    "#pull the latest code from git\n",
    "git pull\n",
    "# bring down any running containers\n",
    "docker-compose -f docker-compose.yml -f docker-compose.qa.yml down\n",
    "# bye bye old containers and cache\n",
    "docker system prune -fa\n",
    "# build the new containers\n",
    "docker-compose build\n",
    "# bring up the new containers\n",
    "docker-compose -f docker-compose.yml -f docker-compose.qa.yml up -d\n"
   ]
  },
  {
   "cell_type": "markdown",
   "metadata": {},
   "source": []
  }
 ],
 "metadata": {
  "kernelspec": {
   "display_name": "conda_python3",
   "language": "python",
   "name": "conda_python3"
  },
  "language_info": {
   "codemirror_mode": {
    "name": "ipython",
    "version": 3
   },
   "file_extension": ".py",
   "mimetype": "text/x-python",
   "name": "python",
   "nbconvert_exporter": "python",
   "pygments_lexer": "ipython3",
   "version": "3.10.13"
  },
  "vscode": {
   "interpreter": {
    "hash": "33cda45f5df7a5b9ff42457e0571a3d8a5694454e4b03d9ecd07224dc2c5ef60"
   }
  }
 },
 "nbformat": 4,
 "nbformat_minor": 4
}
